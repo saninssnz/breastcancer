{
 "cells": [
  {
   "cell_type": "code",
   "execution_count": 1,
   "metadata": {},
   "outputs": [
    {
     "name": "stdout",
     "output_type": "stream",
     "text": [
      "array1:[[ 0  1  2]\n",
      " [ 3  4  5]\n",
      " [ 6  7  8]\n",
      " [ 9 10 11]\n",
      " [12 13 14]\n",
      " [15 16 17]]\n"
     ]
    }
   ],
   "source": [
    "#Q1. Create an array having consecutive natural numbers of size 6x3 and print it.\n",
    "\n",
    "import numpy as np\n",
    "array1=np.arange(18).reshape(6,3)\n",
    "print(\"array1:{}\".format(array1))"
   ]
  },
  {
   "cell_type": "code",
   "execution_count": 2,
   "metadata": {},
   "outputs": [
    {
     "name": "stdout",
     "output_type": "stream",
     "text": [
      "  peoples_names  IPM     State_Name  Peoples_Age Male_or_Female  NOS\n",
      "0             A   50     Tamil Nadu           23              M    0\n",
      "1             B   34      Karnataka           37              F    3\n",
      "2             C   54     Tamil Nadu           35              F    1\n",
      "3             D   24  Uttar Pradesh           26              F    4\n",
      "4             E   19          Bihar           59              M    5\n",
      "5             F   21          Bihar           48              M    6\n",
      "6             G   40          Delhi           30              F    2\n",
      "7             H   20  Uttar Pradesh           72              M   10\n",
      "8             I   30      Telangana           22              F    0\n",
      "9             J   18    Chattisgarh           42              M    7\n"
     ]
    }
   ],
   "source": [
    "#Q2: Rename alll the coumns in the dataset as per your wish and save it in another dataframe and name it df2\n",
    "\n",
    "import pandas as pd\n",
    "df=pd.read_excel(r\"C:\\Users\\abdussamad p\\Desktop\\Week 1 Dataset.xlsx\")\n",
    "df2=df.rename(columns={\"Name\":\"peoples_names\", \"Income per month\":\"IPM\", \"State\":\"State_Name\", \"Age\":\"Peoples_Age\", \"Sex\":\"Male_or_Female\", \"Number of siblings\":\"NOS\"})\n",
    "print(df2)"
   ]
  },
  {
   "cell_type": "code",
   "execution_count": 3,
   "metadata": {},
   "outputs": [
    {
     "name": "stdout",
     "output_type": "stream",
     "text": [
      "  peoples_names  IPM     State_Name  Peoples_Age Male_or_Female  NOS\n",
      "0             A   50     Tamil Nadu           23              M    0\n",
      "1             B   34      Karnataka           37              F    3\n",
      "2             C   54     Tamil Nadu           35              F    1\n",
      "3             D   24  Uttar Pradesh           26              F    4\n",
      "4             E   19          Bihar           59              M    5\n",
      "5             F   21          Bihar           48              M    6\n",
      "6             G   40          Delhi           30              F    2\n",
      "7             H   20  Uttar Pradesh           72              M   10\n",
      "8             I   30      Telangana           22              F    0\n",
      "9             J   18    Chattisgarh           42              M    7\n"
     ]
    }
   ],
   "source": [
    "#q3 After you have created df2, make the same changes in the original dataframe using the inplace.\n",
    "\n",
    "import pandas as pd\n",
    "df2=pd.read_excel(r\"C:\\Users\\abdussamad p\\Desktop\\Week 1 Dataset.xlsx\")\n",
    "df2.rename(columns={\"Name\":\"peoples_names\", \"Income per month\":\"IPM\", \"State\":\"State_Name\", \"Age\":\"Peoples_Age\", \"Sex\":\"Male_or_Female\", \"Number of siblings\":\"NOS\"},inplace=True)\n",
    "print(df2)"
   ]
  },
  {
   "cell_type": "code",
   "execution_count": 4,
   "metadata": {},
   "outputs": [
    {
     "name": "stdout",
     "output_type": "stream",
     "text": [
      "  Sex  Number of siblings\n",
      "0   M                   0\n",
      "1   F                   3\n",
      "2   F                   1\n",
      "3   F                   4\n",
      "4   M                   5\n",
      "5   M                   6\n",
      "6   F                   2\n",
      "7   M                  10\n",
      "8   F                   0\n",
      "9   M                   7\n"
     ]
    }
   ],
   "source": [
    "#Q4: Show only the columns information, sex and number of siblings.\n",
    "\n",
    "import pandas as pd\n",
    "df=pd.read_excel(r\"C:\\Users\\abdussamad p\\Desktop\\Week 1 Dataset.xlsx\")\n",
    "print(df[[\"Sex\", \"Number of siblings\"]])"
   ]
  },
  {
   "cell_type": "code",
   "execution_count": 11,
   "metadata": {},
   "outputs": [
    {
     "name": "stdout",
     "output_type": "stream",
     "text": [
      "  Name  Income per month          State  Age\n",
      "3    D                24  Uttar Pradesh   26\n",
      "4    E                19          Bihar   59\n",
      "5    F                21          Bihar   48\n",
      "6    G                40          Delhi   30\n",
      "7    H                20  Uttar Pradesh   72\n",
      "8    I                30      Telangana   22\n",
      "9    J                18    Chattisgarh   42\n"
     ]
    }
   ],
   "source": [
    "#Q5: Use iloc method to print data from column 1 to 4 and rows 3 to 9\n",
    "\n",
    "import pandas as pd\n",
    "df=pd.read_excel(r\"C:\\Users\\abdussamad p\\Desktop\\Week 1 Dataset.xlsx\")\n",
    "print(df.iloc[3:10,0:4])"
   ]
  },
  {
   "cell_type": "code",
   "execution_count": 6,
   "metadata": {},
   "outputs": [
    {
     "name": "stdout",
     "output_type": "stream",
     "text": [
      "0     2\n",
      "10    1\n",
      "7     1\n",
      "6     1\n",
      "5     1\n",
      "4     1\n",
      "3     1\n",
      "2     1\n",
      "1     1\n",
      "Name: Number of siblings, dtype: int64\n"
     ]
    }
   ],
   "source": [
    "#Q6: Find the total value count of number of siblings in the given dataset\n",
    "\n",
    "import pandas as pd\n",
    "df=pd.read_excel(r\"C:\\Users\\abdussamad p\\Desktop\\Week 1 Dataset.xlsx\")\n",
    "print(df[\"Number of siblings\"].value_counts())"
   ]
  },
  {
   "cell_type": "code",
   "execution_count": 7,
   "metadata": {},
   "outputs": [],
   "source": [
    "#independent variables\n",
    "\n",
    "       #  age,no.of siblings\n",
    "\n",
    "#dependent variables\n",
    "\n",
    "       #-income per month"
   ]
  },
  {
   "cell_type": "code",
   "execution_count": 8,
   "metadata": {},
   "outputs": [],
   "source": [
    "#Findings from the heat map:\n",
    "\n",
    "#income per month decreases as age, and no. siblings increases."
   ]
  },
  {
   "cell_type": "code",
   "execution_count": null,
   "metadata": {},
   "outputs": [],
   "source": []
  }
 ],
 "metadata": {
  "kernelspec": {
   "display_name": "Python 3",
   "language": "python",
   "name": "python3"
  },
  "language_info": {
   "codemirror_mode": {
    "name": "ipython",
    "version": 3
   },
   "file_extension": ".py",
   "mimetype": "text/x-python",
   "name": "python",
   "nbconvert_exporter": "python",
   "pygments_lexer": "ipython3",
   "version": "3.7.6"
  }
 },
 "nbformat": 4,
 "nbformat_minor": 4
}
