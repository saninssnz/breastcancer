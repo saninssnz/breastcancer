{
 "cells": [
  {
   "cell_type": "code",
   "execution_count": 3,
   "metadata": {},
   "outputs": [
    {
     "name": "stdout",
     "output_type": "stream",
     "text": [
      "Decision Tree Training Accuracy: 1.0\n",
      "[[83  7]\n",
      " [ 2 51]]\n",
      "Testing accuracy of decision tree model= 0.9370629370629371\n"
     ]
    }
   ],
   "source": [
    "import numpy as np\n",
    "import pandas as pd\n",
    "import matplotlib.pyplot as plt\n",
    "import seaborn as sns\n",
    "\n",
    "df=pd.read_csv(r\"C:\\Users\\abdussamad p\\Desktop\\cancer dataset .csv\")\n",
    "\n",
    "from sklearn.preprocessing import LabelEncoder\n",
    "labelencoder_Y=LabelEncoder()\n",
    "df.iloc[:,1]=labelencoder_Y.fit_transform(df.iloc[:,1].values)\n",
    "\n",
    "\n",
    "X=df.iloc[:,2:31].values\n",
    "Y=df.iloc[:,1].values\n",
    "\n",
    "from sklearn.model_selection import train_test_split\n",
    "X_train, X_test, Y_train, Y_test= train_test_split(X,Y, test_size=0.25, random_state=0)\n",
    "\n",
    "\n",
    "from sklearn.preprocessing import StandardScaler\n",
    "sc=StandardScaler()\n",
    "X_train=sc.fit_transform(X_train)\n",
    "X_test=sc.fit_transform(X_test)\n",
    "\n",
    "def dectree (X_train,Y_train):\n",
    "            from sklearn.tree import DecisionTreeClassifier\n",
    "            classifier= DecisionTreeClassifier(criterion='entropy', random_state=0)\n",
    "            classifier.fit(X_train, Y_train)\n",
    "            print(\"Decision Tree Training Accuracy:\", classifier.score(X_train, Y_train))\n",
    "            return classifier\n",
    "\n",
    "decstree=dectree(X_train, Y_train)\n",
    "\n",
    "from sklearn.metrics import confusion_matrix\n",
    "cm = confusion_matrix(Y_test, decstree.predict(X_test))\n",
    "print(cm)\n",
    "\n",
    "TP=cm[0][0]\n",
    "TN=cm[1][1]\n",
    "FN=cm[1][0]\n",
    "FP=cm[0][1]\n",
    "print(\"Testing accuracy of decision tree model=\", (TP+TN)/(TP+TN+FN+FP))\n"
   ]
  },
  {
   "cell_type": "code",
   "execution_count": null,
   "metadata": {},
   "outputs": [],
   "source": []
  }
 ],
 "metadata": {
  "kernelspec": {
   "display_name": "Python 3",
   "language": "python",
   "name": "python3"
  },
  "language_info": {
   "codemirror_mode": {
    "name": "ipython",
    "version": 3
   },
   "file_extension": ".py",
   "mimetype": "text/x-python",
   "name": "python",
   "nbconvert_exporter": "python",
   "pygments_lexer": "ipython3",
   "version": "3.8.5"
  }
 },
 "nbformat": 4,
 "nbformat_minor": 4
}
